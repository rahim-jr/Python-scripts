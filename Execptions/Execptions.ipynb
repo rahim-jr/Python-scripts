{
 "cells": [
  {
   "cell_type": "markdown",
   "id": "d4e58630-36ca-491a-acf9-1f4948a4bafc",
   "metadata": {},
   "source": [
    "Exceptions are errors or issues in code execution. This erors needs to be handled in other way."
   ]
  },
  {
   "cell_type": "markdown",
   "id": "0cf82eed-3841-4493-9e2d-342735019212",
   "metadata": {},
   "source": [
    "Runtime Errors "
   ]
  },
  {
   "cell_type": "raw",
   "id": "bb29f378-bf82-4285-9013-278269907b0a",
   "metadata": {},
   "source": [
    "Value Errors "
   ]
  },
  {
   "cell_type": "code",
   "execution_count": 7,
   "id": "1c09ffef-7eab-41d3-8797-56eb97cdbfb7",
   "metadata": {},
   "outputs": [
    {
     "name": "stdin",
     "output_type": "stream",
     "text": [
      "What is X?  1\n"
     ]
    },
    {
     "name": "stdout",
     "output_type": "stream",
     "text": [
      "X is 1\n"
     ]
    }
   ],
   "source": [
    "x = int(input(\"What is X? \"))\n",
    "\n",
    "print(f\"X is {x}\") "
   ]
  },
  {
   "cell_type": "code",
   "execution_count": 8,
   "id": "2f149fb1-5e40-4f66-b2d1-836266cda513",
   "metadata": {},
   "outputs": [
    {
     "name": "stdin",
     "output_type": "stream",
     "text": [
      "What is X?  X\n"
     ]
    },
    {
     "ename": "ValueError",
     "evalue": "invalid literal for int() with base 10: 'X'",
     "output_type": "error",
     "traceback": [
      "\u001b[0;31m---------------------------------------------------------------------------\u001b[0m",
      "\u001b[0;31mValueError\u001b[0m                                Traceback (most recent call last)",
      "Cell \u001b[0;32mIn[8], line 1\u001b[0m\n\u001b[0;32m----> 1\u001b[0m x \u001b[38;5;241m=\u001b[39m \u001b[38;5;28;43mint\u001b[39;49m\u001b[43m(\u001b[49m\u001b[38;5;28;43minput\u001b[39;49m\u001b[43m(\u001b[49m\u001b[38;5;124;43m\"\u001b[39;49m\u001b[38;5;124;43mWhat is X? \u001b[39;49m\u001b[38;5;124;43m\"\u001b[39;49m\u001b[43m)\u001b[49m\u001b[43m)\u001b[49m\n\u001b[1;32m      3\u001b[0m \u001b[38;5;28mprint\u001b[39m(\u001b[38;5;124mf\u001b[39m\u001b[38;5;124m\"\u001b[39m\u001b[38;5;124mX is \u001b[39m\u001b[38;5;132;01m{\u001b[39;00mx\u001b[38;5;132;01m}\u001b[39;00m\u001b[38;5;124m\"\u001b[39m) \n",
      "\u001b[0;31mValueError\u001b[0m: invalid literal for int() with base 10: 'X'"
     ]
    }
   ],
   "source": [
    "x = int(input(\"What is X? \"))\n",
    "\n",
    "print(f\"X is {x}\") "
   ]
  },
  {
   "cell_type": "raw",
   "id": "bdd93cc8-3fcd-4c78-b0df-61e7d893e793",
   "metadata": {},
   "source": [
    "📝 Not Dealing with specific eror is bad practice. \n",
    "📝 Try and except are statements."
   ]
  },
  {
   "cell_type": "raw",
   "id": "163c4992-91d6-4f07-9765-06862837833d",
   "metadata": {},
   "source": [
    "Solution : "
   ]
  },
  {
   "cell_type": "raw",
   "id": "5402c509-efee-4907-aded-4b8d11c768ed",
   "metadata": {},
   "source": [
    "try and except are ways of testing out user input before something goes wrong. "
   ]
  },
  {
   "cell_type": "code",
   "execution_count": 13,
   "id": "bfa920f6-1309-45e6-841c-200884329f3e",
   "metadata": {},
   "outputs": [
    {
     "name": "stdin",
     "output_type": "stream",
     "text": [
      "what is x? cat\n"
     ]
    },
    {
     "name": "stdout",
     "output_type": "stream",
     "text": [
      "X is not an integer\n",
      "x is 1\n"
     ]
    }
   ],
   "source": [
    "try : \n",
    "\tx = int (input(\"what is x?\")) #X does not get value here.That is the problem. \n",
    "except ValueError : \n",
    "\tprint(\"X is not an integer\")\n",
    "\n",
    "#This gives nameError\n",
    "#And the scoping is not the problem \n",
    "#like other languages c++,c or java \n",
    "print(f\"x is {x}\")"
   ]
  },
  {
   "cell_type": "code",
   "execution_count": null,
   "id": "bbfb6712-437b-46f0-82dc-db8216a530ca",
   "metadata": {},
   "outputs": [],
   "source": []
  }
 ],
 "metadata": {
  "kernelspec": {
   "display_name": "Python 3 (ipykernel)",
   "language": "python",
   "name": "python3"
  },
  "language_info": {
   "codemirror_mode": {
    "name": "ipython",
    "version": 3
   },
   "file_extension": ".py",
   "mimetype": "text/x-python",
   "name": "python",
   "nbconvert_exporter": "python",
   "pygments_lexer": "ipython3",
   "version": "3.10.12"
  }
 },
 "nbformat": 4,
 "nbformat_minor": 5
}
